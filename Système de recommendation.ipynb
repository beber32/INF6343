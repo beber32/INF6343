{
 "cells": [
  {
   "cell_type": "markdown",
   "id": "9a61b9ee",
   "metadata": {},
   "source": [
    "# Projet IA\n",
    "\n",
    "## Creation d'un système de recommandation en Python\n",
    "\n",
    "### Équipe :\n",
    "- BACALERIE Florent\n",
    "- BERTHIER Sylvain\n",
    "- GAUVIN Sarah"
   ]
  },
  {
   "cell_type": "code",
   "execution_count": 1,
   "id": "0a6d3a2a",
   "metadata": {},
   "outputs": [],
   "source": [
    "#Installation des librairies necessaire\n",
    "#!pip install scikit-surprise"
   ]
  },
  {
   "cell_type": "code",
   "execution_count": 2,
   "id": "36e7b0ac",
   "metadata": {},
   "outputs": [],
   "source": [
    "#pip install -U surprise"
   ]
  },
  {
   "cell_type": "code",
   "execution_count": 30,
   "id": "af05b69b",
   "metadata": {},
   "outputs": [],
   "source": [
    "#Importation des librairies\n",
    "import pandas as pd\n",
    "import surprise\n",
    "from surprise import SVD, Dataset, Reader, accuracy\n",
    "from surprise.model_selection import cross_validate, GridSearchCV, train_test_split\n",
    "from tqdm import tqdm\n",
    "import pickle"
   ]
  },
  {
   "cell_type": "code",
   "execution_count": 4,
   "id": "8762ddec",
   "metadata": {},
   "outputs": [],
   "source": [
    "#Changement du format pour la méthode describe()\n",
    "pd.set_option('display.float_format', lambda x: '%.1f' % x)"
   ]
  },
  {
   "cell_type": "code",
   "execution_count": 5,
   "id": "2d0e008e",
   "metadata": {},
   "outputs": [],
   "source": [
    "# Load the data from a CSV file\n",
    "anime_df = pd.read_csv('./datas/anime.csv')\n",
    "rating_df = pd.read_csv('./datas/rating.csv')\n"
   ]
  },
  {
   "cell_type": "code",
   "execution_count": 6,
   "id": "3a6f1d03",
   "metadata": {},
   "outputs": [
    {
     "name": "stdout",
     "output_type": "stream",
     "text": [
      "<class 'pandas.core.frame.DataFrame'>\n",
      "RangeIndex: 12294 entries, 0 to 12293\n",
      "Data columns (total 7 columns):\n",
      " #   Column    Non-Null Count  Dtype  \n",
      "---  ------    --------------  -----  \n",
      " 0   anime_id  12294 non-null  int64  \n",
      " 1   name      12294 non-null  object \n",
      " 2   genre     12232 non-null  object \n",
      " 3   type      12269 non-null  object \n",
      " 4   episodes  12294 non-null  object \n",
      " 5   rating    12064 non-null  float64\n",
      " 6   members   12294 non-null  int64  \n",
      "dtypes: float64(1), int64(2), object(4)\n",
      "memory usage: 672.5+ KB\n",
      "None \n",
      "\n",
      "        anime_id  rating   members\n",
      "count   12294.0 12064.0   12294.0\n",
      "mean    14058.2     6.5   18071.3\n",
      "std     11455.3     1.0   54820.7\n",
      "min         1.0     1.7       5.0\n",
      "25%      3484.2     5.9     225.0\n",
      "50%     10260.5     6.6    1550.0\n",
      "75%     24794.5     7.2    9437.0\n",
      "max     34527.0    10.0 1013917.0\n"
     ]
    }
   ],
   "source": [
    "print(anime_df.info(), '\\n\\n', anime_df.describe())"
   ]
  },
  {
   "cell_type": "code",
   "execution_count": 7,
   "id": "203f68e1",
   "metadata": {},
   "outputs": [
    {
     "name": "stdout",
     "output_type": "stream",
     "text": [
      "<class 'pandas.core.frame.DataFrame'>\n",
      "RangeIndex: 7813737 entries, 0 to 7813736\n",
      "Data columns (total 3 columns):\n",
      " #   Column    Dtype\n",
      "---  ------    -----\n",
      " 0   user_id   int64\n",
      " 1   anime_id  int64\n",
      " 2   rating    int64\n",
      "dtypes: int64(3)\n",
      "memory usage: 178.8 MB\n",
      "None \n",
      "\n",
      "         user_id  anime_id    rating\n",
      "count 7813737.0 7813737.0 7813737.0\n",
      "mean    36728.0    8909.1       6.1\n",
      "std     20997.9    8883.9       3.7\n",
      "min         1.0       1.0      -1.0\n",
      "25%     18974.0    1240.0       6.0\n",
      "50%     36791.0    6213.0       7.0\n",
      "75%     54757.0   14093.0       9.0\n",
      "max     73516.0   34519.0      10.0\n"
     ]
    }
   ],
   "source": [
    "print(rating_df.info(), '\\n\\n', rating_df.describe())"
   ]
  },
  {
   "cell_type": "code",
   "execution_count": 8,
   "id": "89d1c057",
   "metadata": {},
   "outputs": [
    {
     "name": "stdout",
     "output_type": "stream",
     "text": [
      "<class 'pandas.core.frame.DataFrame'>\n",
      "Int64Index: 6337241 entries, 47 to 7813736\n",
      "Data columns (total 3 columns):\n",
      " #   Column    Dtype\n",
      "---  ------    -----\n",
      " 0   user_id   int64\n",
      " 1   anime_id  int64\n",
      " 2   rating    int64\n",
      "dtypes: int64(3)\n",
      "memory usage: 193.4 MB\n",
      "None \n",
      "\n",
      "         user_id  anime_id    rating\n",
      "count 6337241.0 6337241.0 6337241.0\n",
      "mean    36747.9    8902.9       7.8\n",
      "std     21013.4    8882.0       1.6\n",
      "min         1.0       1.0       1.0\n",
      "25%     18984.0    1239.0       7.0\n",
      "50%     36815.0    6213.0       8.0\n",
      "75%     54873.0   14075.0       9.0\n",
      "max     73516.0   34475.0      10.0\n"
     ]
    }
   ],
   "source": [
    "#On garde seulement les lignes où on a une note entre l'utilisateur et l'anime. \n",
    "rating_df = rating_df[rating_df['rating'].isin(range(1, 11))]\n",
    "print(rating_df.info(), '\\n\\n', rating_df.describe())"
   ]
  },
  {
   "cell_type": "markdown",
   "id": "ad7b7a05",
   "metadata": {},
   "source": [
    "On a chargé nos données provenant de deux sources : \n",
    "- anime.csv\n",
    "- rating.csv\n",
    "\n",
    "#### rating.csv \n",
    "\n",
    "Ce fichier contient pour chaque ligne, un utilisateur, un anime et une note. Chaque utilisateur à au moins noté 5 anime différents. Certaines lignes on une note de `-1`, cela signifie que l'utilisateur n'a pas donné de note à l'anime. \n",
    "Il est donc important d'exclure ces lignes du dataset d'entrainement. Nous passons donc de 7813737 lignes à 6337241 lignes. 1476496 lignes ont été retiré car inutiles.\n",
    "\n",
    "#### anime.csv\n",
    "\n",
    "ce fichier contient la description de l'ensemble des animes présent dans la base de donnée. On a plusieurs caractéritiques concerant chaque anime telque sont identifiant, le nom, les genres associés, le type, l'épisode, la notation global de l'anime, ... .\n"
   ]
  },
  {
   "cell_type": "code",
   "execution_count": 9,
   "id": "4037d534",
   "metadata": {},
   "outputs": [],
   "source": [
    "# Création d'un objet Reader\n",
    "reader = Reader(rating_scale=(1, 10))\n",
    "\n",
    "# Création de l'objet Dataset à partir des données et de l'objet Reader\n",
    "data = Dataset.load_from_df(rating_df, reader)\n",
    "\n",
    "#Sépération entre entrainement et test\n",
    "train_set, test_set = train_test_split(data, test_size=0.2)"
   ]
  },
  {
   "cell_type": "markdown",
   "id": "e6e31e05",
   "metadata": {},
   "source": [
    "### reader\n",
    "L'objet Reader permet de lire et interpreter les données des films\n",
    "Il permet de définir le format des données d'évaluation et de les charger dans un format utilisable par les algorithmes de recommandation de la librairie.\n",
    "\n",
    "Le paramètre `rating_scale` permet de spécifier l'échelle de notation, ici on a des notes entre 1 (plus bas) et 10 (plus haut)"
   ]
  },
  {
   "cell_type": "code",
   "execution_count": 10,
   "id": "8949122b",
   "metadata": {},
   "outputs": [
    {
     "name": "stdout",
     "output_type": "stream",
     "text": [
      "Evaluating RMSE of algorithm SVD on 5 split(s).\n",
      "\n",
      "                  Fold 1  Fold 2  Fold 3  Fold 4  Fold 5  Mean    Std     \n",
      "RMSE (testset)    1.1324  1.1345  1.1329  1.1331  1.1325  1.1331  0.0007  \n",
      "Fit time          64.70   68.58   68.00   67.94   68.39   67.52   1.43    \n",
      "Test time         24.49   22.51   22.17   22.43   22.31   22.78   0.86    \n"
     ]
    }
   ],
   "source": [
    "# Initialisation de l'algorithme SVD\n",
    "algo = SVD()\n",
    "\n",
    "# Utilisation de la validation croisée pour évaluer l'algorithme\n",
    "scores = cross_validate(algo, data, measures=['RMSE'], cv=5, verbose=True)"
   ]
  },
  {
   "cell_type": "code",
   "execution_count": 11,
   "id": "ec9640fe",
   "metadata": {},
   "outputs": [
    {
     "name": "stdout",
     "output_type": "stream",
     "text": [
      "Scores de la validation croisée : 1.1330818676187262\n"
     ]
    }
   ],
   "source": [
    "# Affichage des scores de la validation croisée\n",
    "print(f\"Scores de la validation croisée : {scores['test_rmse'].mean()}\")"
   ]
  },
  {
   "cell_type": "markdown",
   "id": "b96cbb3e",
   "metadata": {},
   "source": [
    "#### Recherche des hyperparamètres optimales"
   ]
  },
  {
   "cell_type": "code",
   "execution_count": 25,
   "id": "213e1bf8",
   "metadata": {},
   "outputs": [
    {
     "data": {
      "text/plain": [
       "<surprise.prediction_algorithms.matrix_factorization.SVD at 0x7fddabad4be0>"
      ]
     },
     "execution_count": 25,
     "metadata": {},
     "output_type": "execute_result"
    }
   ],
   "source": [
    "# Entraînement de l'algorithme sur l'ensemble d'entraînement complet\n",
    "algo.fit(train_set)"
   ]
  },
  {
   "cell_type": "code",
   "execution_count": 26,
   "id": "242d2bc1",
   "metadata": {},
   "outputs": [
    {
     "name": "stdout",
     "output_type": "stream",
     "text": [
      "RMSE: 1.1327\n",
      "RMSE : 1.1326855014846207\n"
     ]
    }
   ],
   "source": [
    "# Évaluation de l'algorithme sur l'ensemble de test\n",
    "predictions = algo.test(test_set)\n",
    "\n",
    "# Calcul du RMSE\n",
    "rmse = accuracy.rmse(predictions)\n",
    "print(f'RMSE : {rmse}')"
   ]
  },
  {
   "cell_type": "code",
   "execution_count": 27,
   "id": "10dc9f9c",
   "metadata": {},
   "outputs": [
    {
     "name": "stdout",
     "output_type": "stream",
     "text": [
      "user: 1          item: 10         r_ui = None   est = 8.11   {'was_impossible': False}\n"
     ]
    }
   ],
   "source": [
    "# Prédiction de la note que l'utilisateur 1 donnerait à l'item 10\n",
    "prediction = algo.predict(1, 10)\n",
    "print(prediction)"
   ]
  },
  {
   "cell_type": "code",
   "execution_count": 110,
   "id": "cea23976",
   "metadata": {},
   "outputs": [],
   "source": [
    "#Enregistrement du modèle entrainé\n",
    "with open('./saved_model.pkl', 'wb') as f:\n",
    "    pickle.dump(algo, f)"
   ]
  },
  {
   "cell_type": "code",
   "execution_count": 98,
   "id": "34898efc",
   "metadata": {},
   "outputs": [],
   "source": [
    "#chargement du modèle entrainé\n",
    "with open('./saved_model.pkl', 'rb') as f:\n",
    "    algo = pickle.load(f)"
   ]
  },
  {
   "cell_type": "code",
   "execution_count": 99,
   "id": "6bf128a5",
   "metadata": {},
   "outputs": [],
   "source": [
    "def get_top_10_recommendations(model, user_id):\n",
    "  # Prédire les notes pour tous les films\n",
    "  all_predictions = []\n",
    "  for i in range(1, 34528):\n",
    "    all_predictions.append(model.predict(user_id, i))\n",
    "    \n",
    "  # Trier les prédictions par note prédite décroissante\n",
    "  all_predictions.sort(key=lambda x: x.est, reverse=True)\n",
    "\n",
    "  # Garder les 10 meilleures prédictions\n",
    "  top_10_predictions = all_predictions[:10]\n",
    "\n",
    "  # Récupérer les IDs des films recommandés\n",
    "  top_10_movie_ids = [pred[1] for pred in top_10_predictions]\n",
    "\n",
    "  return top_10_movie_ids"
   ]
  },
  {
   "cell_type": "code",
   "execution_count": 100,
   "id": "82292ecd",
   "metadata": {},
   "outputs": [],
   "source": [
    "def get_names(ids):\n",
    "    names = []\n",
    "    for id in ids:\n",
    "        names.append(anime_df.loc[anime_df['anime_id'] == id, 'name'].values[0])\n",
    "    return names\n",
    "        "
   ]
  },
  {
   "cell_type": "code",
   "execution_count": 109,
   "id": "76ce40d0",
   "metadata": {},
   "outputs": [
    {
     "name": "stdout",
     "output_type": "stream",
     "text": [
      "Entrez votre ID d'utilisateur : 2\n",
      "Voici la liste des films recommendé pour l'utilisateur 2\n",
      "- Mobile Suit Gundam Unicorn\n",
      "- Ginga Eiyuu Densetsu\n",
      "- Koe no Katachi\n",
      "- Clannad: After Story\n",
      "- Hunter x Hunter (2011)\n",
      "- Kuroko no Basket 3rd Season\n",
      "- Higurashi no Naku Koro ni\n",
      "- Fullmetal Alchemist: Brotherhood\n",
      "- Hajime no Ippo\n",
      "- Sword Art Online\n"
     ]
    }
   ],
   "source": [
    "# Demander à l'utilisateur de saisir son ID\n",
    "user_id = int(input(\"Entrez votre ID d'utilisateur : \"))\n",
    "\n",
    "# Obtenir les 10 meilleures recommendations pour l'utilisateur\n",
    "\n",
    "top_10_movie_ids = get_top_10_recommendations(algo, user_id)\n",
    "\n",
    "print(f\"Voici la liste des films recommendé pour l'utilisateur {user_id}\")\n",
    "for nom in get_names(top_10_movie_ids):\n",
    "    print(f\"- {nom}\")"
   ]
  },
  {
   "cell_type": "code",
   "execution_count": null,
   "id": "86c4f2ea",
   "metadata": {},
   "outputs": [],
   "source": []
  }
 ],
 "metadata": {
  "kernelspec": {
   "display_name": "Python 3 (ipykernel)",
   "language": "python",
   "name": "python3"
  },
  "language_info": {
   "codemirror_mode": {
    "name": "ipython",
    "version": 3
   },
   "file_extension": ".py",
   "mimetype": "text/x-python",
   "name": "python",
   "nbconvert_exporter": "python",
   "pygments_lexer": "ipython3",
   "version": "3.9.7"
  }
 },
 "nbformat": 4,
 "nbformat_minor": 5
}
